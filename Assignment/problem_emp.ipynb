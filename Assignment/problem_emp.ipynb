{
 "cells": [
  {
   "cell_type": "markdown",
   "id": "fd4ec109-90c8-40a5-b3b6-a74b7a023285",
   "metadata": {},
   "source": [
    "### <font color='green'> create a csv file and insert 5 employee records</font>"
   ]
  },
  {
   "cell_type": "code",
   "execution_count": 6,
   "id": "dd5b0227-7dcf-4389-9cb1-1b1d1bd3c815",
   "metadata": {},
   "outputs": [],
   "source": [
    "l=[ ['eid','ename','dept','salary'],\n",
    "    [1,'sai','bba',10000],\n",
    "    [2,'ram','bca',15000],\n",
    "    [3,'om','mca',18000],\n",
    "    [4,'shiv','bca',14000],\n",
    "    [5,'jay','bba',13000] ]"
   ]
  },
  {
   "cell_type": "code",
   "execution_count": 7,
   "id": "c16148a4-830e-49e9-8754-7d3cc88e871d",
   "metadata": {},
   "outputs": [],
   "source": [
    "import csv"
   ]
  },
  {
   "cell_type": "markdown",
   "id": "4c792510-15e4-444d-a0d6-08c3c8504e88",
   "metadata": {},
   "source": [
    "### <font color='red'> writting a csv file </font>"
   ]
  },
  {
   "cell_type": "code",
   "execution_count": 8,
   "id": "a54def6e-3be1-4411-acd4-5d8e3816ff75",
   "metadata": {},
   "outputs": [],
   "source": [
    "with open(\"C:/BCA/sqlite3/CSV/emp.csv\",\"w\") as csvfile:\n",
    "    w=csv.writer(csvfile)\n",
    "    w.writerows(l)\n",
    "   "
   ]
  },
  {
   "cell_type": "markdown",
   "id": "14472937-b689-4e3d-b8e2-40347154f9eb",
   "metadata": {},
   "source": [
    "### <font color='cyan'> reading a csv file </font>"
   ]
  },
  {
   "cell_type": "code",
   "execution_count": 14,
   "id": "eee0d2bb-0680-42b1-a113-802833d30b42",
   "metadata": {},
   "outputs": [
    {
     "name": "stdout",
     "output_type": "stream",
     "text": [
      "<_csv.reader object at 0x000001A814C72980>\n"
     ]
    },
    {
     "ename": "TypeError",
     "evalue": "list indices must be integers or slices, not str",
     "output_type": "error",
     "traceback": [
      "\u001b[1;31m---------------------------------------------------------------------------\u001b[0m",
      "\u001b[1;31mTypeError\u001b[0m                                 Traceback (most recent call last)",
      "Cell \u001b[1;32mIn[14], line 5\u001b[0m\n\u001b[0;32m      3\u001b[0m \u001b[38;5;28mprint\u001b[39m(r)\n\u001b[0;32m      4\u001b[0m \u001b[38;5;28;01mfor\u001b[39;00m row \u001b[38;5;129;01min\u001b[39;00m r:\n\u001b[1;32m----> 5\u001b[0m     \u001b[38;5;28;01mif\u001b[39;00m \u001b[43mrow\u001b[49m\u001b[43m[\u001b[49m\u001b[38;5;124;43m'\u001b[39;49m\u001b[38;5;124;43mdept\u001b[39;49m\u001b[38;5;124;43m'\u001b[39;49m\u001b[43m]\u001b[49m\u001b[38;5;241m==\u001b[39m\u001b[38;5;124m'\u001b[39m\u001b[38;5;124mbca\u001b[39m\u001b[38;5;124m'\u001b[39m:\n\u001b[0;32m      6\u001b[0m         \u001b[38;5;28mprint\u001b[39m(\u001b[38;5;124mf\u001b[39m\u001b[38;5;124m\"\u001b[39m\u001b[38;5;124meid:\u001b[39m\u001b[38;5;132;01m{\u001b[39;00mrow[eid]\u001b[38;5;132;01m}\u001b[39;00m\u001b[38;5;124m,ename:\u001b[39m\u001b[38;5;132;01m{\u001b[39;00mrow[ename]\u001b[38;5;132;01m}\u001b[39;00m\u001b[38;5;124m,salary:\u001b[39m\u001b[38;5;132;01m{\u001b[39;00mrow[salary]\u001b[38;5;132;01m}\u001b[39;00m\u001b[38;5;124m\"\u001b[39m)\n",
      "\u001b[1;31mTypeError\u001b[0m: list indices must be integers or slices, not str"
     ]
    }
   ],
   "source": [
    "with open(\"C:/BCA/sqlite3/CSV/emp.csv\",\"r\") as csvfile:\n",
    "    r=csv.reader(csvfile)\n",
    "    print(r)\n",
    "    for row in r:\n",
    "        if row['dept']=='bca':\n",
    "            print(f\"eid:{row[eid]},ename:{row[ename]},salary:{row[salary]}\")"
   ]
  },
  {
   "cell_type": "code",
   "execution_count": null,
   "id": "16a6bbb1-b40e-4f75-aebb-6fb79896ed7c",
   "metadata": {},
   "outputs": [],
   "source": []
  }
 ],
 "metadata": {
  "kernelspec": {
   "display_name": "Python 3 (ipykernel)",
   "language": "python",
   "name": "python3"
  },
  "language_info": {
   "codemirror_mode": {
    "name": "ipython",
    "version": 3
   },
   "file_extension": ".py",
   "mimetype": "text/x-python",
   "name": "python",
   "nbconvert_exporter": "python",
   "pygments_lexer": "ipython3",
   "version": "3.12.4"
  }
 },
 "nbformat": 4,
 "nbformat_minor": 5
}
